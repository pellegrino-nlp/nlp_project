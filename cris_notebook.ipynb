{
 "cells": [
  {
   "cell_type": "code",
   "execution_count": 134,
   "metadata": {},
   "outputs": [],
   "source": [
    "# Standard\n",
    "import pandas as pd\n",
    "import re\n",
    "\n",
    "#Web Scraping\n",
    "from requests import get\n",
    "from bs4 import BeautifulSoup\n",
    "import os"
   ]
  },
  {
   "cell_type": "markdown",
   "metadata": {},
   "source": [
    "---\n",
    "WORKING FUNCTIONS"
   ]
  },
  {
   "cell_type": "code",
   "execution_count": 135,
   "metadata": {},
   "outputs": [],
   "source": [
    "def get_titles(soup):\n",
    "    all_titles = []\n",
    "    for h3 in soup.find_all(\"h3\"):\n",
    "        title = h3.text\n",
    "        all_titles.append(title)\n",
    "    \n",
    "    if len(all_titles)>2:\n",
    "        all_titles = all_titles[2:]\n",
    "        \n",
    "    return all_titles"
   ]
  },
  {
   "cell_type": "code",
   "execution_count": 78,
   "metadata": {},
   "outputs": [
    {
     "data": {
      "text/plain": [
       "['\\nh5bp/html5-boilerplate\\n',\n",
       " '\\nscutan90/DeepLearning-500-questions\\n',\n",
       " '\\naosabook/500lines\\n',\n",
       " '\\nchinese-poetry/chinese-poetry\\n',\n",
       " '\\nCorentinJ/Real-Time-Voice-Cloning\\n',\n",
       " '\\nprocessing/p5.js\\n',\n",
       " '\\nrobertdavidgraham/masscan\\n',\n",
       " '\\nochococo/Design-Patterns-In-Swift\\n',\n",
       " '\\nrancher/k3s\\n',\n",
       " '\\nramsey/uuid\\n']"
      ]
     },
     "execution_count": 78,
     "metadata": {},
     "output_type": "execute_result"
    }
   ],
   "source": [
    "get_titles(soup)"
   ]
  },
  {
   "cell_type": "code",
   "execution_count": 88,
   "metadata": {},
   "outputs": [],
   "source": [
    "def make_soup():\n",
    "    start_url = \"https://github.com/search?p=\"\n",
    "    end_url = \"&q=stars%3A%3E100&s=stars&type=Repositories\"\n",
    "\n",
    "    url_list = []\n",
    "    collected_titles = []\n",
    "    \n",
    "    for page_no in range (1,100):\n",
    "        url = start_url + str(page_no) + end_url\n",
    "        headers = {\"User-Agent\": \"Bayes-NLP Project\"}\n",
    "        response = get(url, headers=headers)\n",
    "    \n",
    "        soup = BeautifulSoup(response.content, \"html.parser\")\n",
    "\n",
    "        title_per_page = get_titles(soup)\n",
    "        collected_titles.extend(title_per_page)\n",
    "        \n",
    "#         if len(title_per_page) == 0:\n",
    "#             print(\"---No Titles Found\")\n",
    "#             print(response.text)\n",
    "            \n",
    "    collected_titles = pd.DataFrame({\"titles\":collected_titles})\n",
    "    \n",
    "    return collected_titles"
   ]
  },
  {
   "cell_type": "code",
   "execution_count": 89,
   "metadata": {},
   "outputs": [],
   "source": [
    "titles_3 = make_soup()"
   ]
  },
  {
   "cell_type": "code",
   "execution_count": 91,
   "metadata": {},
   "outputs": [],
   "source": [
    "titles_3.to_csv(\"90_titles.csv\")"
   ]
  },
  {
   "cell_type": "markdown",
   "metadata": {},
   "source": [
    "---"
   ]
  },
  {
   "cell_type": "code",
   "execution_count": 123,
   "metadata": {},
   "outputs": [],
   "source": [
    "cards = pd.read_csv(\"90_titles.csv\", usecols=[\"titles\"])\n",
    "cards = pd.DataFrame(cards.titles.str.strip())"
   ]
  },
  {
   "cell_type": "code",
   "execution_count": 125,
   "metadata": {},
   "outputs": [],
   "source": [
    "cards[\"github_url\"] = \"https://github.com/\" + cards.titles"
   ]
  },
  {
   "cell_type": "code",
   "execution_count": 132,
   "metadata": {},
   "outputs": [
    {
     "data": {
      "text/html": [
       "<div>\n",
       "<style scoped>\n",
       "    .dataframe tbody tr th:only-of-type {\n",
       "        vertical-align: middle;\n",
       "    }\n",
       "\n",
       "    .dataframe tbody tr th {\n",
       "        vertical-align: top;\n",
       "    }\n",
       "\n",
       "    .dataframe thead th {\n",
       "        text-align: right;\n",
       "    }\n",
       "</style>\n",
       "<table border=\"1\" class=\"dataframe\">\n",
       "  <thead>\n",
       "    <tr style=\"text-align: right;\">\n",
       "      <th></th>\n",
       "      <th>titles</th>\n",
       "      <th>github_url</th>\n",
       "    </tr>\n",
       "  </thead>\n",
       "  <tbody>\n",
       "    <tr>\n",
       "      <th>0</th>\n",
       "      <td>freeCodeCamp/freeCodeCamp</td>\n",
       "      <td>https://github.com/freeCodeCamp/freeCodeCamp</td>\n",
       "    </tr>\n",
       "  </tbody>\n",
       "</table>\n",
       "</div>"
      ],
      "text/plain": [
       "                      titles                                    github_url\n",
       "0  freeCodeCamp/freeCodeCamp  https://github.com/freeCodeCamp/freeCodeCamp"
      ]
     },
     "execution_count": 132,
     "metadata": {},
     "output_type": "execute_result"
    }
   ],
   "source": [
    "cards.head(1)"
   ]
  },
  {
   "cell_type": "code",
   "execution_count": 133,
   "metadata": {},
   "outputs": [
    {
     "name": "stdout",
     "output_type": "stream",
     "text": [
      "https://github.com/freeCodeCamp/freeCodeCamp\n",
      "https://github.com/996icu/996.ICU\n",
      "https://github.com/vuejs/vue\n",
      "https://github.com/facebook/react\n",
      "https://github.com/tensorflow/tensorflow\n",
      "https://github.com/twbs/bootstrap\n",
      "https://github.com/EbookFoundation/free-programming-books\n",
      "https://github.com/sindresorhus/awesome\n",
      "https://github.com/getify/You-Dont-Know-JS\n",
      "https://github.com/ohmyzsh/ohmyzsh\n",
      "https://github.com/jwasham/coding-interview-university\n",
      "https://github.com/github/gitignore\n",
      "https://github.com/kamranahmedse/developer-roadmap\n",
      "https://github.com/airbnb/javascript\n",
      "https://github.com/d3/d3\n",
      "https://github.com/microsoft/vscode\n",
      "https://github.com/CyC2018/CS-Notes\n",
      "https://github.com/torvalds/linux\n",
      "https://github.com/facebook/react-native\n",
      "https://github.com/flutter/flutter\n",
      "https://github.com/electron/electron\n",
      "https://github.com/donnemartin/system-design-primer\n",
      "https://github.com/vinta/awesome-python\n",
      "https://github.com/facebook/create-react-app\n",
      "https://github.com/jackfrued/Python-100-Days\n",
      "https://github.com/axios/axios\n",
      "https://github.com/public-apis/public-apis\n",
      "https://github.com/golang/go\n",
      "https://github.com/jlevy/the-art-of-command-line\n",
      "https://github.com/nodejs/node\n",
      "https://github.com/Snailclimb/JavaGuide\n",
      "https://github.com/TheAlgorithms/Python\n",
      "https://github.com/daneden/animate.css\n",
      "https://github.com/FortAwesome/Font-Awesome\n",
      "https://github.com/kubernetes/kubernetes\n",
      "https://github.com/justjavac/free-programming-books-zh_CN\n",
      "https://github.com/tensorflow/models\n",
      "https://github.com/angular/angular.js\n",
      "https://github.com/ytdl-org/youtube-dl\n",
      "https://github.com/trekhleb/javascript-algorithms\n",
      "https://github.com/mrdoob/three.js\n",
      "https://github.com/danistefanovic/build-your-own-x\n",
      "https://github.com/puppeteer/puppeteer\n",
      "https://github.com/laravel/laravel\n",
      "https://github.com/microsoft/TypeScript\n",
      "https://github.com/moby/moby\n",
      "https://github.com/microsoft/terminal\n",
      "https://github.com/angular/angular\n",
      "https://github.com/ant-design/ant-design\n",
      "https://github.com/iluwatar/java-design-patterns\n",
      "https://github.com/30-seconds/30-seconds-of-code\n",
      "https://github.com/mui-org/material-ui\n",
      "https://github.com/jquery/jquery\n",
      "https://github.com/ossu/computer-science\n",
      "https://github.com/webpack/webpack\n",
      "https://github.com/reduxjs/redux\n",
      "https://github.com/nvbn/thefuck\n",
      "https://github.com/vuejs/awesome-vue\n",
      "https://github.com/atom/atom\n",
      "https://github.com/avelino/awesome-go\n",
      "https://github.com/apple/swift\n",
      "https://github.com/hakimel/reveal.js\n",
      "https://github.com/socketio/socket.io\n",
      "https://github.com/pallets/flask\n",
      "https://github.com/Semantic-Org/Semantic-UI\n",
      "https://github.com/expressjs/express\n",
      "https://github.com/chartjs/Chart.js\n",
      "https://github.com/PanJiaChen/vue-element-admin\n",
      "https://github.com/elastic/elasticsearch\n",
      "https://github.com/keras-team/keras\n",
      "https://github.com/django/django\n",
      "https://github.com/MisterBooo/LeetCodeAnimation\n",
      "https://github.com/shadowsocks/shadowsocks-windows\n",
      "https://github.com/chrislgarry/Apollo-11\n",
      "https://github.com/jakubroztocil/httpie\n",
      "https://github.com/rails/rails\n",
      "https://github.com/typicode/json-server\n",
      "https://github.com/spring-projects/spring-boot\n",
      "https://github.com/storybookjs/storybook\n",
      "https://github.com/h5bp/html5-boilerplate\n",
      "https://github.com/netdata/netdata\n",
      "https://github.com/zeit/next.js\n",
      "https://github.com/h5bp/Front-end-Developer-Interview-Questions\n",
      "https://github.com/moment/moment\n",
      "https://github.com/josephmisiti/awesome-machine-learning\n",
      "https://github.com/resume/resume.github.com\n",
      "https://github.com/ElemeFE/element\n",
      "https://github.com/lodash/lodash\n",
      "https://github.com/adam-p/markdown-here\n",
      "https://github.com/tonsky/FiraCode\n"
     ]
    }
   ],
   "source": [
    "for repo_url in cards.github_url:\n",
    "    repo_url = \n",
    "    \n",
    "url = start_url + str(page_no) + end_url\n",
    "headers = {\"User-Agent\": \"Bayes-NLP Project\"}\n",
    "response = get(url, headers=headers)\n",
    "    \n",
    "        soup = BeautifulSoup(response.content, \"html.parser\")"
   ]
  },
  {
   "cell_type": "code",
   "execution_count": null,
   "metadata": {},
   "outputs": [],
   "source": [
    "url = start_url + str(page_no) + end_url\n",
    "headers = {\"User-Agent\": \"Bayes-NLP Project\"}\n",
    "response = get(url, headers=headers)\n",
    "    \n",
    "        soup = BeautifulSoup(response.content, \"html.parser\")"
   ]
  },
  {
   "cell_type": "code",
   "execution_count": null,
   "metadata": {},
   "outputs": [],
   "source": []
  }
 ],
 "metadata": {
  "kernelspec": {
   "display_name": "Python 3",
   "language": "python",
   "name": "python3"
  },
  "language_info": {
   "codemirror_mode": {
    "name": "ipython",
    "version": 3
   },
   "file_extension": ".py",
   "mimetype": "text/x-python",
   "name": "python",
   "nbconvert_exporter": "python",
   "pygments_lexer": "ipython3",
   "version": "3.7.3"
  }
 },
 "nbformat": 4,
 "nbformat_minor": 2
}
