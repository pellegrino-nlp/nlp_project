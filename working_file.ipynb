{
 "cells": [
  {
   "cell_type": "markdown",
   "metadata": {},
   "source": [
    "# Predicting the Programming Languages of Most Starred Github Repos"
   ]
  },
  {
   "cell_type": "markdown",
   "metadata": {},
   "source": [
    "## Goal\n",
    "Build a model that can predict what programming language a repository is, given the text of the README file."
   ]
  },
  {
   "cell_type": "code",
   "execution_count": 2,
   "metadata": {},
   "outputs": [],
   "source": [
    "import pandas as pd\n",
    "import re\n",
    "\n",
    "# scraping modules\n",
    "from requests import get\n",
    "from bs4 import BeautifulSoup\n",
    "\n",
    "import unicodedata\n",
    "import re\n",
    "import json\n",
    "\n",
    "import nltk\n",
    "from nltk.tokenize.toktok import ToktokTokenizer\n",
    "from nltk.corpus import stopwords\n",
    "\n",
    "import os\n",
    "import acquire"
   ]
  },
  {
   "cell_type": "markdown",
   "metadata": {},
   "source": [
    "## Acquire and Prep data"
   ]
  },
  {
   "cell_type": "markdown",
   "metadata": {},
   "source": [
    "**Acquire data from local cache** → Normalize and Tokenize → Stem/Lematize → Remove stopwords and extraneous words"
   ]
  },
  {
   "cell_type": "code",
   "execution_count": 2,
   "metadata": {},
   "outputs": [],
   "source": [
    "#acquire.scrape_github_data()"
   ]
  },
  {
   "cell_type": "code",
   "execution_count": 3,
   "metadata": {},
   "outputs": [],
   "source": [
    "df = pd.read_json('data.json')"
   ]
  },
  {
   "cell_type": "code",
   "execution_count": 4,
   "metadata": {},
   "outputs": [
    {
     "data": {
      "text/html": [
       "<div>\n",
       "<style scoped>\n",
       "    .dataframe tbody tr th:only-of-type {\n",
       "        vertical-align: middle;\n",
       "    }\n",
       "\n",
       "    .dataframe tbody tr th {\n",
       "        vertical-align: top;\n",
       "    }\n",
       "\n",
       "    .dataframe thead th {\n",
       "        text-align: right;\n",
       "    }\n",
       "</style>\n",
       "<table border=\"1\" class=\"dataframe\">\n",
       "  <thead>\n",
       "    <tr style=\"text-align: right;\">\n",
       "      <th></th>\n",
       "      <th>language</th>\n",
       "      <th>readme_contents</th>\n",
       "      <th>repo</th>\n",
       "    </tr>\n",
       "  </thead>\n",
       "  <tbody>\n",
       "    <tr>\n",
       "      <th>0</th>\n",
       "      <td>JavaScript</td>\n",
       "      <td>![freeCodeCamp.org Social Banner](https://s3.a...</td>\n",
       "      <td>freeCodeCamp/freeCodeCamp</td>\n",
       "    </tr>\n",
       "    <tr>\n",
       "      <th>1</th>\n",
       "      <td>Rust</td>\n",
       "      <td>[996.ICU](https://996.icu/#/en_US)\\n=======\\n*...</td>\n",
       "      <td>996icu/996.ICU</td>\n",
       "    </tr>\n",
       "    <tr>\n",
       "      <th>2</th>\n",
       "      <td>JavaScript</td>\n",
       "      <td>&lt;p align=\"center\"&gt;&lt;a href=\"https://vuejs.org\" ...</td>\n",
       "      <td>vuejs/vue</td>\n",
       "    </tr>\n",
       "    <tr>\n",
       "      <th>3</th>\n",
       "      <td>JavaScript</td>\n",
       "      <td># [React](https://reactjs.org/) &amp;middot; [![Gi...</td>\n",
       "      <td>facebook/react</td>\n",
       "    </tr>\n",
       "    <tr>\n",
       "      <th>4</th>\n",
       "      <td>C++</td>\n",
       "      <td>&lt;div align=\"center\"&gt;\\n  &lt;img src=\"https://www....</td>\n",
       "      <td>tensorflow/tensorflow</td>\n",
       "    </tr>\n",
       "  </tbody>\n",
       "</table>\n",
       "</div>"
      ],
      "text/plain": [
       "     language                                    readme_contents  \\\n",
       "0  JavaScript  ![freeCodeCamp.org Social Banner](https://s3.a...   \n",
       "1        Rust  [996.ICU](https://996.icu/#/en_US)\\n=======\\n*...   \n",
       "2  JavaScript  <p align=\"center\"><a href=\"https://vuejs.org\" ...   \n",
       "3  JavaScript  # [React](https://reactjs.org/) &middot; [![Gi...   \n",
       "4         C++  <div align=\"center\">\\n  <img src=\"https://www....   \n",
       "\n",
       "                        repo  \n",
       "0  freeCodeCamp/freeCodeCamp  \n",
       "1             996icu/996.ICU  \n",
       "2                  vuejs/vue  \n",
       "3             facebook/react  \n",
       "4      tensorflow/tensorflow  "
      ]
     },
     "execution_count": 4,
     "metadata": {},
     "output_type": "execute_result"
    }
   ],
   "source": [
    "df.head()"
   ]
  },
  {
   "cell_type": "code",
   "execution_count": 14,
   "metadata": {},
   "outputs": [],
   "source": [
    "def basic_clean(string):\n",
    "    \"\"\"\n",
    "    Convert to all lowercase  \n",
    "    Normalize the unicode chars  \n",
    "    Remove any non-alpha or whitespace characters  \n",
    "    Remove any alpha strings with 2 characters or less  \n",
    "    \"\"\"\n",
    "    string = string.lower()\n",
    "    string = unicodedata.normalize('NFKD', string).encode('ascii', 'ignore').decode('utf-8', 'ignore')\n",
    "    \n",
    "    # keep only alpha chars\n",
    "    string = re.sub(r'[^a-z]', ' ', string)\n",
    "    \n",
    "    # remove strings less than 2 chars in length\n",
    "    string = re.sub(r'\\b[a-z]{,2}\\b', '', string)\n",
    "    \n",
    "    # convert newlines and tabs to a single space\n",
    "    string = re.sub(r'[\\r|\\n|\\r\\n]+', ' ', string)\n",
    "    \n",
    "    # strip extra whitespace\n",
    "    string = string.strip()\n",
    "    \n",
    "    return string"
   ]
  },
  {
   "cell_type": "code",
   "execution_count": 15,
   "metadata": {},
   "outputs": [],
   "source": [
    "def stem(string):\n",
    "    ps = nltk.porter.PorterStemmer()\n",
    "    stems = [ps.stem(word) for word in string.split()]\n",
    "    string_of_stems = ' '.join(stems)\n",
    "    return string_of_stems"
   ]
  },
  {
   "cell_type": "code",
   "execution_count": 16,
   "metadata": {},
   "outputs": [],
   "source": [
    "def lemmatize(string):\n",
    "    wnl = nltk.stem.WordNetLemmatizer()\n",
    "    lemmas = [wnl.lemmatize(word) for word in string.split()]\n",
    "    string_of_lemmas = ' '.join(lemmas)\n",
    "    return string_of_lemmas"
   ]
  },
  {
   "cell_type": "code",
   "execution_count": 17,
   "metadata": {},
   "outputs": [],
   "source": [
    "def tokenize(string):\n",
    "    tokenizer = nltk.tokenize.ToktokTokenizer()\n",
    "    return tokenizer.tokenize(string, return_str=True)"
   ]
  },
  {
   "cell_type": "markdown",
   "metadata": {},
   "source": [
    "What are the words we want to exclude?\n",
    "- http\n",
    "- banner\n",
    "- request\n",
    "- img\n",
    "- badge\n",
    "- svg\n",
    "- www\n",
    "- com\n",
    "- png\n",
    "- welcome\n",
    "- pr\n",
    "- style\n",
    "- flat\n",
    "- makeapullrequest\n",
    "- gitpod\n",
    "- logo\n",
    "- blue\n",
    "- green\n",
    "- brightgreen"
   ]
  },
  {
   "cell_type": "code",
   "execution_count": 18,
   "metadata": {},
   "outputs": [],
   "source": [
    "def remove_stopwords(tokenized_string, extra_words=[], exclude_words=[]):\n",
    "    words = tokenized_string.split()\n",
    "    stopword_list = stopwords.words('english')\n",
    "\n",
    "    # remove the excluded words from the stopword list\n",
    "    stopword_list = set(stopword_list) - set(exclude_words)\n",
    "\n",
    "    # add in the user specified extra words\n",
    "    stopword_list = stopword_list.union(set(extra_words))\n",
    "\n",
    "    filtered_words = [w for w in words if w not in stopword_list]\n",
    "    final_string = \" \".join(filtered_words)\n",
    "    return final_string"
   ]
  },
  {
   "cell_type": "code",
   "execution_count": 20,
   "metadata": {},
   "outputs": [],
   "source": [
    "df = df[['language','readme_contents']]\n",
    "df = df.assign(original = df.readme_contents.apply(basic_clean))"
   ]
  },
  {
   "cell_type": "code",
   "execution_count": 21,
   "metadata": {},
   "outputs": [
    {
     "data": {
      "text/html": [
       "<div>\n",
       "<style scoped>\n",
       "    .dataframe tbody tr th:only-of-type {\n",
       "        vertical-align: middle;\n",
       "    }\n",
       "\n",
       "    .dataframe tbody tr th {\n",
       "        vertical-align: top;\n",
       "    }\n",
       "\n",
       "    .dataframe thead th {\n",
       "        text-align: right;\n",
       "    }\n",
       "</style>\n",
       "<table border=\"1\" class=\"dataframe\">\n",
       "  <thead>\n",
       "    <tr style=\"text-align: right;\">\n",
       "      <th></th>\n",
       "      <th>language</th>\n",
       "      <th>readme_contents</th>\n",
       "      <th>original</th>\n",
       "    </tr>\n",
       "  </thead>\n",
       "  <tbody>\n",
       "    <tr>\n",
       "      <th>0</th>\n",
       "      <td>JavaScript</td>\n",
       "      <td>![freeCodeCamp.org Social Banner](https://s3.a...</td>\n",
       "      <td>freecodecamp org social banner  https     amaz...</td>\n",
       "    </tr>\n",
       "    <tr>\n",
       "      <th>1</th>\n",
       "      <td>Rust</td>\n",
       "      <td>[996.ICU](https://996.icu/#/en_US)\\n=======\\n*...</td>\n",
       "      <td>icu  https       icu                please not...</td>\n",
       "    </tr>\n",
       "    <tr>\n",
       "      <th>2</th>\n",
       "      <td>JavaScript</td>\n",
       "      <td>&lt;p align=\"center\"&gt;&lt;a href=\"https://vuejs.org\" ...</td>\n",
       "      <td>align  center    href  https   vuejs org  targ...</td>\n",
       "    </tr>\n",
       "    <tr>\n",
       "      <th>3</th>\n",
       "      <td>JavaScript</td>\n",
       "      <td># [React](https://reactjs.org/) &amp;middot; [![Gi...</td>\n",
       "      <td>react  https   reactjs org    middot     githu...</td>\n",
       "    </tr>\n",
       "    <tr>\n",
       "      <th>4</th>\n",
       "      <td>C++</td>\n",
       "      <td>&lt;div align=\"center\"&gt;\\n  &lt;img src=\"https://www....</td>\n",
       "      <td>div align  center      img src  https   www te...</td>\n",
       "    </tr>\n",
       "  </tbody>\n",
       "</table>\n",
       "</div>"
      ],
      "text/plain": [
       "     language                                    readme_contents  \\\n",
       "0  JavaScript  ![freeCodeCamp.org Social Banner](https://s3.a...   \n",
       "1        Rust  [996.ICU](https://996.icu/#/en_US)\\n=======\\n*...   \n",
       "2  JavaScript  <p align=\"center\"><a href=\"https://vuejs.org\" ...   \n",
       "3  JavaScript  # [React](https://reactjs.org/) &middot; [![Gi...   \n",
       "4         C++  <div align=\"center\">\\n  <img src=\"https://www....   \n",
       "\n",
       "                                            original  \n",
       "0  freecodecamp org social banner  https     amaz...  \n",
       "1  icu  https       icu                please not...  \n",
       "2  align  center    href  https   vuejs org  targ...  \n",
       "3  react  https   reactjs org    middot     githu...  \n",
       "4  div align  center      img src  https   www te...  "
      ]
     },
     "execution_count": 21,
     "metadata": {},
     "output_type": "execute_result"
    }
   ],
   "source": [
    "df.head()"
   ]
  },
  {
   "cell_type": "code",
   "execution_count": 22,
   "metadata": {},
   "outputs": [
    {
     "data": {
      "text/html": [
       "<div>\n",
       "<style scoped>\n",
       "    .dataframe tbody tr th:only-of-type {\n",
       "        vertical-align: middle;\n",
       "    }\n",
       "\n",
       "    .dataframe tbody tr th {\n",
       "        vertical-align: top;\n",
       "    }\n",
       "\n",
       "    .dataframe thead th {\n",
       "        text-align: right;\n",
       "    }\n",
       "</style>\n",
       "<table border=\"1\" class=\"dataframe\">\n",
       "  <thead>\n",
       "    <tr style=\"text-align: right;\">\n",
       "      <th></th>\n",
       "      <th>language</th>\n",
       "      <th>readme_contents</th>\n",
       "      <th>original</th>\n",
       "      <th>stemmed</th>\n",
       "      <th>lemmatized</th>\n",
       "      <th>cleaned</th>\n",
       "    </tr>\n",
       "  </thead>\n",
       "  <tbody>\n",
       "    <tr>\n",
       "      <th>0</th>\n",
       "      <td>JavaScript</td>\n",
       "      <td>![freeCodeCamp.org Social Banner](https://s3.a...</td>\n",
       "      <td>freecodecamp org social banner  https     amaz...</td>\n",
       "      <td>freecodecamp org social banner http amazonaw c...</td>\n",
       "      <td>freecodecamp org social banner http amazonaws ...</td>\n",
       "      <td>freecodecamp org social banner http amazonaws ...</td>\n",
       "    </tr>\n",
       "    <tr>\n",
       "      <th>1</th>\n",
       "      <td>Rust</td>\n",
       "      <td>[996.ICU](https://996.icu/#/en_US)\\n=======\\n*...</td>\n",
       "      <td>icu  https       icu                please not...</td>\n",
       "      <td>icu http icu pleas note that there exist other...</td>\n",
       "      <td>icu http icu please note that there exists oth...</td>\n",
       "      <td>icu http icu please note exists official accou...</td>\n",
       "    </tr>\n",
       "    <tr>\n",
       "      <th>2</th>\n",
       "      <td>JavaScript</td>\n",
       "      <td>&lt;p align=\"center\"&gt;&lt;a href=\"https://vuejs.org\" ...</td>\n",
       "      <td>align  center    href  https   vuejs org  targ...</td>\n",
       "      <td>align center href http vuej org target blank r...</td>\n",
       "      <td>align center href http vuejs org target blank ...</td>\n",
       "      <td>align center href http vuejs org target blank ...</td>\n",
       "    </tr>\n",
       "    <tr>\n",
       "      <th>3</th>\n",
       "      <td>JavaScript</td>\n",
       "      <td># [React](https://reactjs.org/) &amp;middot; [![Gi...</td>\n",
       "      <td>react  https   reactjs org    middot     githu...</td>\n",
       "      <td>react http reactj org middot github licens htt...</td>\n",
       "      <td>react http reactjs org middot github license h...</td>\n",
       "      <td>react http reactjs org middot github license h...</td>\n",
       "    </tr>\n",
       "    <tr>\n",
       "      <th>4</th>\n",
       "      <td>C++</td>\n",
       "      <td>&lt;div align=\"center\"&gt;\\n  &lt;img src=\"https://www....</td>\n",
       "      <td>div align  center      img src  https   www te...</td>\n",
       "      <td>div align center img src http www tensorflow o...</td>\n",
       "      <td>div align center img src http www tensorflow o...</td>\n",
       "      <td>div align center img src http www tensorflow o...</td>\n",
       "    </tr>\n",
       "  </tbody>\n",
       "</table>\n",
       "</div>"
      ],
      "text/plain": [
       "     language                                    readme_contents  \\\n",
       "0  JavaScript  ![freeCodeCamp.org Social Banner](https://s3.a...   \n",
       "1        Rust  [996.ICU](https://996.icu/#/en_US)\\n=======\\n*...   \n",
       "2  JavaScript  <p align=\"center\"><a href=\"https://vuejs.org\" ...   \n",
       "3  JavaScript  # [React](https://reactjs.org/) &middot; [![Gi...   \n",
       "4         C++  <div align=\"center\">\\n  <img src=\"https://www....   \n",
       "\n",
       "                                            original  \\\n",
       "0  freecodecamp org social banner  https     amaz...   \n",
       "1  icu  https       icu                please not...   \n",
       "2  align  center    href  https   vuejs org  targ...   \n",
       "3  react  https   reactjs org    middot     githu...   \n",
       "4  div align  center      img src  https   www te...   \n",
       "\n",
       "                                             stemmed  \\\n",
       "0  freecodecamp org social banner http amazonaw c...   \n",
       "1  icu http icu pleas note that there exist other...   \n",
       "2  align center href http vuej org target blank r...   \n",
       "3  react http reactj org middot github licens htt...   \n",
       "4  div align center img src http www tensorflow o...   \n",
       "\n",
       "                                          lemmatized  \\\n",
       "0  freecodecamp org social banner http amazonaws ...   \n",
       "1  icu http icu please note that there exists oth...   \n",
       "2  align center href http vuejs org target blank ...   \n",
       "3  react http reactjs org middot github license h...   \n",
       "4  div align center img src http www tensorflow o...   \n",
       "\n",
       "                                             cleaned  \n",
       "0  freecodecamp org social banner http amazonaws ...  \n",
       "1  icu http icu please note exists official accou...  \n",
       "2  align center href http vuejs org target blank ...  \n",
       "3  react http reactjs org middot github license h...  \n",
       "4  div align center img src http www tensorflow o...  "
      ]
     },
     "execution_count": 22,
     "metadata": {},
     "output_type": "execute_result"
    }
   ],
   "source": [
    "# df = df.assign(normalized = df.original.apply(normalize))\n",
    "\n",
    "df = df.assign(stemmed = df.original.apply(tokenize).apply(stem))\n",
    "df = df.assign(lemmatized = df.original.apply(tokenize).apply(lemmatize))\n",
    "\n",
    "\n",
    "df = df.assign(cleaned = df.lemmatized.apply(remove_stopwords))\n",
    "\n",
    "df.head()"
   ]
  },
  {
   "cell_type": "code",
   "execution_count": 23,
   "metadata": {
    "scrolled": true
   },
   "outputs": [
    {
     "data": {
      "text/plain": [
       "'freecodecamp org social banner http amazonaws com freecodecamp wide social banner png pull request welcome http img shield badge pr welcome brightgreen svg style flat http makeapullrequest com first timer friendly http img shield badge first timer friendly blue svg http www firsttimersonly com open source helper http www codetriage com freecodecamp freecodecamp badge user svg http www codetriage com freecodecamp freecodecamp setup automated http img shield badge setup automated blue logo gitpod http gitpod referrer freecodecamp org open source codebase curriculum freecodecamp org http www freecodecamp org friendly community learn code free run donor supported nonprofit http donate freecodecamp org help million busy adult transition tech community ha already helped people get first developer job full stack web development curriculum completely free self paced thousand interactive coding challenge help expand skill table content certification certification learning platform learning platform reporting bug issue reporting bug issue reporting security issue reporting security issue contributing contributing platform build deployment status platform build deployment status license license certification freecodecamp org offer several free developer certification certification involves building required web app project along hundred optional coding challenge help prepare project estimate certification take beginning programmer around hour earn project freecodecamp org curriculum ha agile user story automated test help build project incrementally ensure fulfilled user story submit pull test suite freecodecamp cdn http cdn freecodecamp org testable project fcc bundle mean build project website like codepen glitch even local computer development environment youve earned certification always always able link linkedin resume prospective employer freelance client click link theyll see verified certification specific one exception discover violation academic honesty policy http www freecodecamp org academic honesty catch people unambiguously plagiarizing submitting people code project without citation rigorous institution learning revoke certification ban people six core certification responsive web design certification basic html html http learn freecodecamp org responsive web design basic html html basic cs http learn freecodecamp org responsive web design basic cs applied visual design http learn freecodecamp org responsive web design applied visual design applied accessibility http learn freecodecamp org responsive web design applied accessibility responsive web design principle http learn freecodecamp org responsive web design responsive web design principle cs flexbox http learn freecodecamp org responsive web design cs flexbox cs grid http learn freecodecamp org responsive web design cs grid project tribute page survey form product landing page technical documentation page personal portfolio webpage javascript algorithm data structure certification basic javascript http learn freecodecamp org javascript algorithm data structure basic javascript http learn freecodecamp org javascript algorithm data structure regular expression http learn freecodecamp org javascript algorithm data structure regular expression debugging http learn freecodecamp org javascript algorithm data structure debugging basic data structure http learn freecodecamp org javascript algorithm data structure basic data structure algorithm scripting http learn freecodecamp org javascript algorithm data structure basic algorithm scripting object oriented programming http learn freecodecamp org javascript algorithm data structure object oriented programming functional programming http learn freecodecamp org javascript algorithm data structure functional programming intermediate algorithm scripting http learn freecodecamp org javascript algorithm data structure intermediate algorithm scripting project palindrome checker roman numeral converter caesar cipher telephone number validator cash register front end library certification bootstrap http learn freecodecamp org front end library bootstrap jquery http learn freecodecamp org front end library jquery sas http learn freecodecamp org front end library sas react http learn freecodecamp org front end library react redux http learn freecodecamp org front end library redux react redux http learn freecodecamp org front end library react redux project random quote machine markdown previewer drum machine javascript calculator pomodoro clock data visualization certification data visualization http learn freecodecamp org data visualization data visualization json apis ajax http learn freecodecamp org data visualization json apis ajax project bar chart scatterplot graph heat map choropleth map treemap diagram apis microservices certification managing package npm http learn freecodecamp org apis microservices managing package npm basic node express http learn freecodecamp org apis microservices basic node express mongodb mongoose http learn freecodecamp org apis microservices mongodb mongoose project timestamp microservice request header parser url shortener exercise tracker file metadata microservice information security quality assurance certification information security helmetjs http learn freecodecamp org information security quality assurance information security helmetjs quality assurance testing chai http learn freecodecamp org information security quality assurance quality assurance testing chai advanced node express http learn freecodecamp org information security quality assurance advanced node express project metric imperial converter issue tracker personal library stock price checker anonymous message board full stack development certification earned certification able claim freecodecamp org full stack development certification final distinction signifies youve completed around hour coding wide range web development tool legacy certification also legacy certification curriculum still available required project legacy certification remain available freecodecamp org legacy front end development certification legacy data visualization certification legacy back end development certification learning platform code running live freecodecamp org http www freecodecamp org community also ha forum http www freecodecamp org forum usually get programming help project feedback within hour youtube channel http youtube com freecodecamp free course python sql android wide variety technology podcast http podcast freecodecamp org technology insight inspiring story developer developer news http www freecodecamp org news publication free open source ad place cross post blog article join community http www freecodecamp org signin reporting bug issue think found bug first read report bug http www freecodecamp org forum report bug article follow instruction confident new bug confirmed someone else facing issue ahead create new github issue sure include much information possible reproduce bug reporting security issue think found vulnerability please report responsibly create github issue security issue instead please send email security freecodecamp org look immediately contributing please follow step contribute contributing platform build deployment status general platform status application available status freecodecamp org http status freecodecamp org build deployment status code available devops guide doc devops license copyright freecodecamp org content repository bound following license computer software licensed bsd clause license license learning resource curriculum curriculum directory including subdirectory thereon licensed curriculum license license'"
      ]
     },
     "execution_count": 23,
     "metadata": {},
     "output_type": "execute_result"
    }
   ],
   "source": [
    "df.cleaned[0]"
   ]
  },
  {
   "cell_type": "markdown",
   "metadata": {},
   "source": []
  },
  {
   "cell_type": "code",
   "execution_count": 25,
   "metadata": {},
   "outputs": [
    {
     "data": {
      "text/plain": [
       "'freecodecamp org social banner http amazonaws com freecodecamp wide social banner png pull request welcome http img shield badge pr welcome brightgreen svg style flat http makeapullrequest com first timer only friendly http img shield badge first timer only friendly blue svg http www firsttimersonly com open source helper http www codetriage com freecodecamp freecodecamp badge user svg http www codetriage com freecodecamp freecodecamp setup automated http img shield badge setup automated blue logo gitpod http gitpod from referrer freecodecamp org open source codebase and curriculum freecodecamp org http www freecodecamp org friendly community where you can learn code for free run donor supported nonprofit http donate freecodecamp org help million busy adult transition into tech our community ha already helped more than people get their first developer job our full stack web development curriculum completely free and self paced have thousand interactive coding challenge help you expand your skill table content certification certification the learning platform the learning platform reporting bug and issue reporting bug and issue reporting security issue reporting security issue contributing contributing platform build and deployment status platform build and deployment status license license certification freecodecamp org offer several free developer certification each these certification involves building required web app project along with hundred optional coding challenge help you prepare for those project estimate that each certification will take beginning programmer around hour earn each these project the freecodecamp org curriculum ha it own agile user story and automated test these help you build your project incrementally and ensure you fulfilled all the user story before you submit you can pull these test suite through freecodecamp cdn http cdn freecodecamp org testable project fcc bundle this mean you can build these project website like codepen and glitch even your local computer development environment once youve earned certification you will always have you will always able link from your linkedin resume and when your prospective employer freelance client click that link theyll see verified certification specific you the one exception this discover violation our academic honesty policy http www freecodecamp org academic honesty when catch people unambiguously plagiarizing submitting other people code project their own without citation what all rigorous institution learning should revoke their certification and ban those people here are our six core certification responsive web design certification basic html and html http learn freecodecamp org responsive web design basic html and html basic cs http learn freecodecamp org responsive web design basic cs applied visual design http learn freecodecamp org responsive web design applied visual design applied accessibility http learn freecodecamp org responsive web design applied accessibility responsive web design principle http learn freecodecamp org responsive web design responsive web design principle cs flexbox http learn freecodecamp org responsive web design cs flexbox cs grid http learn freecodecamp org responsive web design cs grid project tribute page survey form product landing page technical documentation page personal portfolio webpage javascript algorithm and data structure certification basic javascript http learn freecodecamp org javascript algorithm and data structure basic javascript http learn freecodecamp org javascript algorithm and data structure regular expression http learn freecodecamp org javascript algorithm and data structure regular expression debugging http learn freecodecamp org javascript algorithm and data structure debugging basic data structure http learn freecodecamp org javascript algorithm and data structure basic data structure algorithm scripting http learn freecodecamp org javascript algorithm and data structure basic algorithm scripting object oriented programming http learn freecodecamp org javascript algorithm and data structure object oriented programming functional programming http learn freecodecamp org javascript algorithm and data structure functional programming intermediate algorithm scripting http learn freecodecamp org javascript algorithm and data structure intermediate algorithm scripting project palindrome checker roman numeral converter caesar cipher telephone number validator cash register front end library certification bootstrap http learn freecodecamp org front end library bootstrap jquery http learn freecodecamp org front end library jquery sas http learn freecodecamp org front end library sas react http learn freecodecamp org front end library react redux http learn freecodecamp org front end library redux react and redux http learn freecodecamp org front end library react and redux project random quote machine markdown previewer drum machine javascript calculator pomodoro clock data visualization certification data visualization with http learn freecodecamp org data visualization data visualization with json apis and ajax http learn freecodecamp org data visualization json apis and ajax project bar chart scatterplot graph heat map choropleth map treemap diagram apis and microservices certification managing package with npm http learn freecodecamp org apis and microservices managing package with npm basic node and express http learn freecodecamp org apis and microservices basic node and express mongodb and mongoose http learn freecodecamp org apis and microservices mongodb and mongoose project timestamp microservice request header parser url shortener exercise tracker file metadata microservice information security and quality assurance certification information security with helmetjs http learn freecodecamp org information security and quality assurance information security with helmetjs quality assurance and testing with chai http learn freecodecamp org information security and quality assurance quality assurance and testing with chai advanced node and express http learn freecodecamp org information security and quality assurance advanced node and express project metric imperial converter issue tracker personal library stock price checker anonymous message board full stack development certification once you have earned all these certification you able claim your freecodecamp org full stack development certification this final distinction signifies that youve completed around hour coding with wide range web development tool legacy certification also have legacy certification from our curriculum which are still available all the required project for these legacy certification will remain available freecodecamp org legacy front end development certification legacy data visualization certification legacy back end development certification the learning platform this code running live freecodecamp org http www freecodecamp org our community also ha forum http www freecodecamp org forum where you can usually get programming help project feedback within hour youtube channel http youtube com freecodecamp with free course python sql android and wide variety other technology podcast http podcast freecodecamp org with technology insight and inspiring story from developer developer news http www freecodecamp org news publication free open source ad place cross post your blog article join our community here http www freecodecamp org signin reporting bug and issue you think you found bug first read the how report bug http www freecodecamp org forum how report bug article and follow it instruction you confident new bug and have confirmed that someone else facing the same issue ahead and create new github issue sure include much information possible can reproduce the bug reporting security issue you think you have found vulnerability please report responsibly don create github issue for security issue instead please send email security freecodecamp org and look into immediately contributing please follow these step contribute contributing platform build and deployment status the general platform status for all our application available status freecodecamp org http status freecodecamp org the build and deployment status for the code available our devops guide doc devops license copyright freecodecamp org the content this repository bound the following license the computer software licensed under the bsd clause license license the learning resource the curriculum curriculum directory including their subdirectory thereon are licensed under the curriculum license license'"
      ]
     },
     "execution_count": 25,
     "metadata": {},
     "output_type": "execute_result"
    }
   ],
   "source": [
    "df.lemmatized[0]"
   ]
  },
  {
   "cell_type": "code",
   "execution_count": null,
   "metadata": {},
   "outputs": [],
   "source": [
    "df.lemmatize"
   ]
  },
  {
   "cell_type": "code",
   "execution_count": null,
   "metadata": {},
   "outputs": [],
   "source": []
  },
  {
   "cell_type": "code",
   "execution_count": 18,
   "metadata": {},
   "outputs": [
    {
     "data": {
      "text/plain": [
       "\"freecodecamp org social banner https s3 amazonaws com freecodecamp wide social banner png pull requests welcome https img shields io badge prs welcome brightgreen svg style flat http makeapullrequest com first timers only friendly https img shields io badge first timers only friendly blue svg http www firsttimersonly com open source helpers https www codetriage com freecodecamp freecodecamp badges users svg https www codetriage com freecodecamp freecodecamp setup automated https img shields io badge setup automated blue logo gitpod https gitpod io from referrer freecodecamp org ' s open source codebase and curriculum freecodecamp org https www freecodecamp org is a friendly community where you can learn to code for free it is run by a donor supported 501 c 3 nonprofit https donate freecodecamp org to help millions of busy adults transition into tech our community has already helped more than 10 000 people get their first developer job our full stack web development curriculum is completely free and self paced we have thousands of interactive coding challenges to help you expand your skills table of contents certifications certifications the learning platform the learning platform reporting bugs and issues reporting bugs and issues reporting security issues reporting security issues contributing contributing platform build and deployment status platform build and deployment status license license certifications freecodecamp org offers several free developer certifications each of these certifications involves building 5 required web app projects along with hundreds of optional coding challenges to help you prepare for those projects we estimate that each certification will take a beginning programmer around 300 hours to earn each of these 30 projects in the freecodecamp org curriculum has its own agile user stories and automated tests these help you build up your project incrementally and ensure you ' ve fulfilled all the user stories before you submit it you can pull in these test suites through freecodecamp ' s cdn https cdn freecodecamp org testable projects fcc v1 bundle js this means you can build these projects on websites like codepen and glitch or even on your local computer ' s development environment once youve earned a certification you will always have it you will always be able to link to it from your linkedin or resume and when your prospective employers or freelance clients click that link theyll see a verified certification specific to you the one exception to this is if we discover violations of our academic honesty policy https www freecodecamp org academic honesty when we catch people unambiguously plagiarizing submitting other people ' s code or projects as their own without citation we do what all rigorous institutions of learning should do we revoke their certifications and ban those people here are our six core certifications 1 responsive web design certification basic html and html5 https learn freecodecamp org responsive web design basic html and html5 basic css https learn freecodecamp org responsive web design basic css applied visual design https learn freecodecamp org responsive web design applied visual design applied accessibility https learn freecodecamp org responsive web design applied accessibility responsive web design principles https learn freecodecamp org responsive web design responsive web design principles css flexbox https learn freecodecamp org responsive web design css flexbox css grid https learn freecodecamp org responsive web design css grid br br projects tribute page survey form product landing page technical documentation page personal portfolio webpage 2 javascript algorithms and data structures certification basic javascript https learn freecodecamp org javascript algorithms and data structures basic javascript es6 https learn freecodecamp org javascript algorithms and data structures es6 regular expressions https learn freecodecamp org javascript algorithms and data structures regular expressions debugging https learn freecodecamp org javascript algorithms and data structures debugging basic data structures https learn freecodecamp org javascript algorithms and data structures basic data structures algorithm scripting https learn freecodecamp org javascript algorithms and data structures basic algorithm scripting object oriented programming https learn freecodecamp org javascript algorithms and data structures object oriented programming functional programming https learn freecodecamp org javascript algorithms and data structures functional programming intermediate algorithm scripting https learn freecodecamp org javascript algorithms and data structures intermediate algorithm scripting br br projects palindrome checker roman numeral converter caesar ' s cipher telephone number validator cash register 3 front end libraries certification bootstrap https learn freecodecamp org front end libraries bootstrap jquery https learn freecodecamp org front end libraries jquery sass https learn freecodecamp org front end libraries sass react https learn freecodecamp org front end libraries react redux https learn freecodecamp org front end libraries redux react and redux https learn freecodecamp org front end libraries react and redux br br projects random quote machine markdown previewer drum machine javascript calculator pomodoro clock 4 data visualization certification data visualization with d3 https learn freecodecamp org data visualization data visualization with d3 json apis and ajax https learn freecodecamp org data visualization json apis and ajax br br projects bar chart scatterplot graph heat map choropleth map treemap diagram 5 apis and microservices certification managing packages with npm https learn freecodecamp org apis and microservices managing packages with npm basic node and express https learn freecodecamp org apis and microservices basic node and express mongodb and mongoose https learn freecodecamp org apis and microservices mongodb and mongoose br br projects timestamp microservice request header parser url shortener exercise tracker file metadata microservice 6 information security and quality assurance certification information security with helmetjs https learn freecodecamp org information security and quality assurance information security with helmetjs quality assurance and testing with chai https learn freecodecamp org information security and quality assurance quality assurance and testing with chai advanced node and express https learn freecodecamp org information security and quality assurance advanced node and express br br projects metric imperial converter issue tracker personal library stock price checker anonymous message board full stack development certification once you have earned all 6 of these certifications you ' ll be able to claim your freecodecamp org full stack development certification this final distinction signifies that youve completed around 1 800 hours of coding with a wide range of web development tools legacy certifications we also have 3 legacy certifications from our 2015 curriculum which are still available all of the required projects for these legacy certifications will remain available on freecodecamp org legacy front end development certification legacy data visualization certification legacy back end development certification the learning platform this code is running live at freecodecamp org https www freecodecamp org our community also has a forum https www freecodecamp org forum where you can usually get programming help or project feedback within hours a youtube channel https youtube com freecodecamp with free courses on python sql android and a wide variety of other technologies a podcast https podcast freecodecamp org with technology insights and inspiring stories from developers a developer news https www freecodecamp org news publication a free open source no ads place to cross post your blog articles join our community here https www freecodecamp org signin reporting bugs and issues if you think you ' ve found a bug first read the how to report a bug https www freecodecamp org forum t how to report a bug 19543 article and follow its instructions if you ' re confident it ' s a new bug and have confirmed that someone else is facing the same issue go ahead and create a new github issue be sure to include as much information as possible so we can reproduce the bug reporting security issues if you think you have found a vulnerability please report responsibly don ' t create github issues for security issues instead please send an email to security freecodecamp org and we ' ll look into it immediately contributing please follow these steps to contribute contributing md platform build and deployment status the general platform status for all our applications is available at status freecodecamp org https status freecodecamp org the build and deployment status for the code is available in our devops guide docs devops md license copyright 2019 freecodecamp org the content of this repository is bound by the following licenses the computer software is licensed under the bsd 3 clause license md license the learning resources in the curriculum curriculum directory including their subdirectories thereon are licensed under the cc by sa 4 0 curriculum license md license\""
      ]
     },
     "execution_count": 18,
     "metadata": {},
     "output_type": "execute_result"
    }
   ],
   "source": [
    "df.readme_contents[0]"
   ]
  },
  {
   "cell_type": "code",
   "execution_count": 21,
   "metadata": {},
   "outputs": [],
   "source": [
    "df = df.rename(columns={'readme_contents': 'original'})"
   ]
  },
  {
   "cell_type": "code",
   "execution_count": 22,
   "metadata": {},
   "outputs": [
    {
     "data": {
      "text/html": [
       "<div>\n",
       "<style scoped>\n",
       "    .dataframe tbody tr th:only-of-type {\n",
       "        vertical-align: middle;\n",
       "    }\n",
       "\n",
       "    .dataframe tbody tr th {\n",
       "        vertical-align: top;\n",
       "    }\n",
       "\n",
       "    .dataframe thead th {\n",
       "        text-align: right;\n",
       "    }\n",
       "</style>\n",
       "<table border=\"1\" class=\"dataframe\">\n",
       "  <thead>\n",
       "    <tr style=\"text-align: right;\">\n",
       "      <th></th>\n",
       "      <th>language</th>\n",
       "      <th>original</th>\n",
       "      <th>repo</th>\n",
       "    </tr>\n",
       "  </thead>\n",
       "  <tbody>\n",
       "    <tr>\n",
       "      <th>0</th>\n",
       "      <td>JavaScript</td>\n",
       "      <td>freecodecamp org social banner https s3 amazon...</td>\n",
       "      <td>freeCodeCamp/freeCodeCamp</td>\n",
       "    </tr>\n",
       "    <tr>\n",
       "      <th>1</th>\n",
       "      <td>Rust</td>\n",
       "      <td>996 icu https 996 icu en us please note that t...</td>\n",
       "      <td>996icu/996.ICU</td>\n",
       "    </tr>\n",
       "    <tr>\n",
       "      <th>2</th>\n",
       "      <td>JavaScript</td>\n",
       "      <td>p align center a href https vuejs org target b...</td>\n",
       "      <td>vuejs/vue</td>\n",
       "    </tr>\n",
       "    <tr>\n",
       "      <th>3</th>\n",
       "      <td>JavaScript</td>\n",
       "      <td>react https reactjs org middot github license ...</td>\n",
       "      <td>facebook/react</td>\n",
       "    </tr>\n",
       "    <tr>\n",
       "      <th>4</th>\n",
       "      <td>C++</td>\n",
       "      <td>div align center img src https www tensorflow ...</td>\n",
       "      <td>tensorflow/tensorflow</td>\n",
       "    </tr>\n",
       "  </tbody>\n",
       "</table>\n",
       "</div>"
      ],
      "text/plain": [
       "     language                                           original  \\\n",
       "0  JavaScript  freecodecamp org social banner https s3 amazon...   \n",
       "1        Rust  996 icu https 996 icu en us please note that t...   \n",
       "2  JavaScript  p align center a href https vuejs org target b...   \n",
       "3  JavaScript  react https reactjs org middot github license ...   \n",
       "4         C++  div align center img src https www tensorflow ...   \n",
       "\n",
       "                        repo  \n",
       "0  freeCodeCamp/freeCodeCamp  \n",
       "1             996icu/996.ICU  \n",
       "2                  vuejs/vue  \n",
       "3             facebook/react  \n",
       "4      tensorflow/tensorflow  "
      ]
     },
     "execution_count": 22,
     "metadata": {},
     "output_type": "execute_result"
    }
   ],
   "source": [
    "df.head()"
   ]
  },
  {
   "cell_type": "code",
   "execution_count": null,
   "metadata": {},
   "outputs": [],
   "source": []
  },
  {
   "cell_type": "code",
   "execution_count": null,
   "metadata": {},
   "outputs": [],
   "source": []
  },
  {
   "cell_type": "code",
   "execution_count": 9,
   "metadata": {},
   "outputs": [],
   "source": [
    "#soup = BeautifulSoup(response.content)"
   ]
  },
  {
   "cell_type": "code",
   "execution_count": 10,
   "metadata": {},
   "outputs": [
    {
     "data": {
      "text/plain": [
       "<title>GitHub - rbenv/rbenv: Groom your app’s Ruby environment</title>"
      ]
     },
     "execution_count": 10,
     "metadata": {},
     "output_type": "execute_result"
    }
   ],
   "source": [
    "#soup.title"
   ]
  },
  {
   "cell_type": "code",
   "execution_count": 30,
   "metadata": {},
   "outputs": [
    {
     "data": {
      "text/plain": [
       "'Groom your app’s Ruby environment with rbenv.\\nUse rbenv to pick a Ruby version for your application and guarantee\\nthat your development environment matches production. Put rbenv to work\\nwith Bundler for painless Ruby upgrades and\\nbulletproof deployments.\\nPowerful in development. Specify your app\\'s Ruby version once,\\nin a single file. Keep all your teammates on the same page. No\\nheadaches running apps on different versions of Ruby. Just Works™\\nfrom the command line and with app servers like Pow.\\nOverride the Ruby version anytime: just set an environment variable.\\nRock-solid in production. Your application\\'s executables are its\\ninterface with ops. With rbenv and Bundler\\nbinstubs\\nyou\\'ll never again need to cd in a cron job or Chef recipe to\\nensure you\\'ve selected the right runtime. The Ruby version\\ndependency lives in one place—your app—so upgrades and rollbacks are\\natomic, even when you switch versions.\\nOne thing well. rbenv is concerned solely with switching Ruby\\nversions. It\\'s simple and predictable. A rich plugin ecosystem lets\\nyou tailor it to suit your needs. Compile your own Ruby versions, or\\nuse the ruby-build\\nplugin to automate the process. Specify per-application environment\\nvariables with rbenv-vars.\\nSee more plugins on the\\nwiki.\\nWhy choose rbenv over\\nRVM?\\nTable of Contents\\n\\nHow It Works\\n\\nUnderstanding PATH\\nUnderstanding Shims\\nChoosing the Ruby Version\\nLocating the Ruby Installation\\n\\n\\nInstallation\\n\\nHomebrew on macOS\\n\\nUpgrading with Homebrew\\n\\n\\nBasic GitHub Checkout\\n\\nUpgrading with Git\\nUpdating the list of available Ruby versions\\n\\n\\nHow rbenv hooks into your shell\\nInstalling Ruby versions\\n\\nInstalling Ruby gems\\n\\n\\nUninstalling Ruby versions\\nUninstalling rbenv\\n\\n\\nCommand Reference\\n\\nrbenv local\\nrbenv global\\nrbenv shell\\nrbenv versions\\nrbenv version\\nrbenv rehash\\nrbenv which\\nrbenv whence\\n\\n\\nEnvironment variables\\nDevelopment\\n\\nHow It Works\\nAt a high level, rbenv intercepts Ruby commands using shim\\nexecutables injected into your PATH, determines which Ruby version\\nhas been specified by your application, and passes your commands along\\nto the correct Ruby installation.\\nUnderstanding PATH\\nWhen you run a command like ruby or rake, your operating system\\nsearches through a list of directories to find an executable file with\\nthat name. This list of directories lives in an environment variable\\ncalled PATH, with each directory in the list separated by a colon:\\n/usr/local/bin:/usr/bin:/bin\\n\\nDirectories in PATH are searched from left to right, so a matching\\nexecutable in a directory at the beginning of the list takes\\nprecedence over another one at the end. In this example, the\\n/usr/local/bin directory will be searched first, then /usr/bin,\\nthen /bin.\\nUnderstanding Shims\\nrbenv works by inserting a directory of shims at the front of your\\nPATH:\\n~/.rbenv/shims:/usr/local/bin:/usr/bin:/bin\\n\\nThrough a process called rehashing, rbenv maintains shims in that\\ndirectory to match every Ruby command across every installed version\\nof Ruby—irb, gem, rake, rails, ruby, and so on.\\nShims are lightweight executables that simply pass your command along\\nto rbenv. So with rbenv installed, when you run, say, rake, your\\noperating system will do the following:\\n\\nSearch your PATH for an executable file named rake\\nFind the rbenv shim named rake at the beginning of your PATH\\nRun the shim named rake, which in turn passes the command along to\\nrbenv\\n\\nChoosing the Ruby Version\\nWhen you execute a shim, rbenv determines which Ruby version to use by\\nreading it from the following sources, in this order:\\n\\n\\nThe RBENV_VERSION environment variable, if specified. You can use\\nthe rbenv shell command to set this environment\\nvariable in your current shell session.\\n\\n\\nThe first .ruby-version file found by searching the directory of the\\nscript you are executing and each of its parent directories until reaching\\nthe root of your filesystem.\\n\\n\\nThe first .ruby-version file found by searching the current working\\ndirectory and each of its parent directories until reaching the root of your\\nfilesystem. You can modify the .ruby-version file in the current working\\ndirectory with the rbenv local command.\\n\\n\\nThe global ~/.rbenv/version file. You can modify this file using\\nthe rbenv global command. If the global version\\nfile is not present, rbenv assumes you want to use the \"system\"\\nRuby—i.e. whatever version would be run if rbenv weren\\'t in your\\npath.\\n\\n\\nLocating the Ruby Installation\\nOnce rbenv has determined which version of Ruby your application has\\nspecified, it passes the command along to the corresponding Ruby\\ninstallation.\\nEach Ruby version is installed into its own directory under\\n~/.rbenv/versions. For example, you might have these versions\\ninstalled:\\n\\n~/.rbenv/versions/1.8.7-p371/\\n~/.rbenv/versions/1.9.3-p327/\\n~/.rbenv/versions/jruby-1.7.1/\\n\\nVersion names to rbenv are simply the names of the directories in\\n~/.rbenv/versions.\\nInstallation\\nCompatibility note: rbenv is incompatible with RVM. Please make\\nsure to fully uninstall RVM and remove any references to it from\\nyour shell initialization files before installing rbenv.\\nHomebrew on macOS\\nIf you\\'re on macOS, we recommend installing rbenv with\\nHomebrew.\\n\\n\\nInstall rbenv.\\n$ brew install rbenv\\nNote that this also installs ruby-build, so you\\'ll be ready to\\ninstall other Ruby versions out of the box.\\n\\n\\nSet up rbenv in your shell.\\n$ rbenv init\\nFollow the printed instructions to set up rbenv shell integration.\\n\\n\\nClose your Terminal window and open a new one so your changes take\\neffect.\\n\\n\\nVerify that rbenv is properly set up using this\\nrbenv-doctor script:\\n$ curl -fsSL https://github.com/rbenv/rbenv-installer/raw/master/bin/rbenv-doctor | bash\\nChecking for `rbenv\\' in PATH: /usr/local/bin/rbenv\\nChecking for rbenv shims in PATH: OK\\nChecking `rbenv install\\' support: /usr/local/bin/rbenv-install (ruby-build 20170523)\\nCounting installed Ruby versions: none\\n  There aren\\'t any Ruby versions installed under `~/.rbenv/versions\\'.\\n  You can install Ruby versions like so: rbenv install 2.2.4\\nChecking RubyGems settings: OK\\nAuditing installed plugins: OK\\n\\n\\nThat\\'s it! Installing rbenv includes ruby-build, so now you\\'re ready to\\ninstall some other Ruby versions using\\nrbenv install.\\n\\n\\nUpgrading with Homebrew\\nTo upgrade to the latest rbenv and update ruby-build with newly released\\nRuby versions, upgrade the Homebrew packages:\\n$ brew upgrade rbenv ruby-build\\nBasic GitHub Checkout\\nFor a more automated install, you can use\\nrbenv-installer.\\nIf you prefer a manual approach, follow the steps below.\\nThis will get you going with the latest version of rbenv without needing\\na systemwide install.\\n\\n\\nClone rbenv into ~/.rbenv.\\n$ git clone https://github.com/rbenv/rbenv.git ~/.rbenv\\nOptionally, try to compile dynamic bash extension to speed up rbenv. Don\\'t\\nworry if it fails; rbenv will still work normally:\\n$ cd ~/.rbenv && src/configure && make -C src\\n\\n\\n\\nAdd ~/.rbenv/bin to your $PATH for access to the rbenv\\ncommand-line utility.\\n\\n\\nFor bash:\\n$ echo \\'export PATH=\"$HOME/.rbenv/bin:$PATH\"\\' >> ~/.bash_profile\\n\\n\\nFor Ubuntu Desktop:\\n$ echo \\'export PATH=\"$HOME/.rbenv/bin:$PATH\"\\' >> ~/.bashrc\\n\\n\\nFor Zsh:\\n$ echo \\'export PATH=\"$HOME/.rbenv/bin:$PATH\"\\' >> ~/.zshrc\\n\\n\\nFor Fish shell:\\n$ set -Ux fish_user_paths $HOME/.rbenv/bin $fish_user_paths\\n\\n\\n\\n\\nSet up rbenv in your shell.\\n$ ~/.rbenv/bin/rbenv init\\nFollow the printed instructions to set up rbenv shell integration.\\n\\n\\nRestart your shell so that PATH changes take effect. (Opening a new\\nterminal tab will usually do it.)\\n\\n\\nVerify that rbenv is properly set up using this\\nrbenv-doctor script:\\n$ curl -fsSL https://github.com/rbenv/rbenv-installer/raw/master/bin/rbenv-doctor | bash\\nChecking for `rbenv\\' in PATH: /usr/local/bin/rbenv\\nChecking for rbenv shims in PATH: OK\\nChecking `rbenv install\\' support: /usr/local/bin/rbenv-install (ruby-build 20170523)\\nCounting installed Ruby versions: none\\n  There aren\\'t any Ruby versions installed under `~/.rbenv/versions\\'.\\n  You can install Ruby versions like so: rbenv install 2.2.4\\nChecking RubyGems settings: OK\\nAuditing installed plugins: OK\\n\\n\\n(Optional) Install ruby-build, which provides the\\nrbenv install command that simplifies the process of\\ninstalling new Ruby versions.\\n\\n\\nUpgrading with Git\\nIf you\\'ve installed rbenv manually using Git, you can upgrade to the\\nlatest version by pulling from GitHub:\\n$ cd ~/.rbenv\\n$ git pull\\nUpdating the list of available Ruby versions\\nIf you\\'re using the rbenv install command, then the list of available Ruby versions is not automatically updated when pulling from the rbenv repo. To do this manually:\\n$ cd ~/.rbenv/plugins/ruby-build\\n$ git pull\\nHow rbenv hooks into your shell\\nSkip this section unless you must know what every line in your shell\\nprofile is doing.\\nrbenv init is the only command that crosses the line of loading\\nextra commands into your shell. Coming from RVM, some of you might be\\nopposed to this idea. Here\\'s what rbenv init actually does:\\n\\n\\nSets up your shims path. This is the only requirement for rbenv to\\nfunction properly. You can do this by hand by prepending\\n~/.rbenv/shims to your $PATH.\\n\\n\\nInstalls autocompletion. This is entirely optional but pretty\\nuseful. Sourcing ~/.rbenv/completions/rbenv.bash will set that\\nup. There is also a ~/.rbenv/completions/rbenv.zsh for Zsh\\nusers.\\n\\n\\nRehashes shims. From time to time you\\'ll need to rebuild your\\nshim files. Doing this automatically makes sure everything is up to\\ndate. You can always run rbenv rehash manually.\\n\\n\\nInstalls the sh dispatcher. This bit is also optional, but allows\\nrbenv and plugins to change variables in your current shell, making\\ncommands like rbenv shell possible. The sh dispatcher doesn\\'t do\\nanything invasive like override cd or hack your shell prompt, but if\\nfor some reason you need rbenv to be a real script rather than a\\nshell function, you can safely skip it.\\n\\n\\nRun rbenv init - for yourself to see exactly what happens under the\\nhood.\\nInstalling Ruby versions\\nThe rbenv install command doesn\\'t ship with rbenv out of the box, but\\nis provided by the ruby-build project. If you installed it either\\nas part of GitHub checkout process outlined above or via Homebrew, you\\nshould be able to:\\n# list all available versions:\\n$ rbenv install -l\\n\\n# install a Ruby version:\\n$ rbenv install 2.0.0-p247\\nAlternatively to the install command, you can download and compile\\nRuby manually as a subdirectory of ~/.rbenv/versions/. An entry in\\nthat directory can also be a symlink to a Ruby version installed\\nelsewhere on the filesystem. rbenv doesn\\'t care; it will simply treat\\nany entry in the versions/ directory as a separate Ruby version.\\nInstalling Ruby gems\\nOnce you\\'ve installed some Ruby versions, you\\'ll want to install gems.\\nFirst, ensure that the target version for your project is the one you want by\\nchecking rbenv version (see Command Reference). Select\\nanother version using rbenv local 2.0.0-p247, for example. Then, proceed to\\ninstall gems as you normally would:\\n$ gem install bundler\\nYou don\\'t need sudo to install gems. Typically, the Ruby versions will be\\ninstalled and writeable by your user. No extra privileges are required to\\ninstall gems.\\nCheck the location where gems are being installed with gem env:\\n$ gem env home\\n# => ~/.rbenv/versions/<ruby-version>/lib/ruby/gems/...\\nUninstalling Ruby versions\\nAs time goes on, Ruby versions you install will accumulate in your\\n~/.rbenv/versions directory.\\nTo remove old Ruby versions, simply rm -rf the directory of the\\nversion you want to remove. You can find the directory of a particular\\nRuby version with the rbenv prefix command, e.g. rbenv prefix 1.8.7-p357.\\nThe ruby-build plugin provides an rbenv uninstall command to\\nautomate the removal process.\\nUninstalling rbenv\\nThe simplicity of rbenv makes it easy to temporarily disable it, or\\nuninstall from the system.\\n\\nTo disable rbenv managing your Ruby versions, simply remove the\\nrbenv init line from your shell startup configuration. This will\\nremove rbenv shims directory from PATH, and future invocations like\\nruby will execute the system Ruby version, as before rbenv.\\n\\nrbenv will still be accessible on the command line, but your Ruby\\napps won\\'t be affected by version switching.\\n\\n\\nTo completely uninstall rbenv, perform step (1) and then remove\\nits root directory. This will delete all Ruby versions that were\\ninstalled under `rbenv root`/versions/ directory:\\n rm -rf `rbenv root`\\n\\nIf you\\'ve installed rbenv using a package manager, as a final step\\nperform the rbenv package removal. For instance, for Homebrew:\\n brew uninstall rbenv\\n\\n\\n\\nCommand Reference\\nLike git, the rbenv command delegates to subcommands based on its\\nfirst argument. The most common subcommands are:\\nrbenv local\\nSets a local application-specific Ruby version by writing the version\\nname to a .ruby-version file in the current directory. This version\\noverrides the global version, and can be overridden itself by setting\\nthe RBENV_VERSION environment variable or with the rbenv shell\\ncommand.\\n$ rbenv local 1.9.3-p327\\n\\nWhen run without a version number, rbenv local reports the currently\\nconfigured local version. You can also unset the local version:\\n$ rbenv local --unset\\n\\nrbenv global\\nSets the global version of Ruby to be used in all shells by writing\\nthe version name to the ~/.rbenv/version file. This version can be\\noverridden by an application-specific .ruby-version file, or by\\nsetting the RBENV_VERSION environment variable.\\n$ rbenv global 1.8.7-p352\\n\\nThe special version name system tells rbenv to use the system Ruby\\n(detected by searching your $PATH).\\nWhen run without a version number, rbenv global reports the\\ncurrently configured global version.\\nrbenv shell\\nSets a shell-specific Ruby version by setting the RBENV_VERSION\\nenvironment variable in your shell. This version overrides\\napplication-specific versions and the global version.\\n$ rbenv shell jruby-1.7.1\\n\\nWhen run without a version number, rbenv shell reports the current\\nvalue of RBENV_VERSION. You can also unset the shell version:\\n$ rbenv shell --unset\\n\\nNote that you\\'ll need rbenv\\'s shell integration enabled (step 3 of\\nthe installation instructions) in order to use this command. If you\\nprefer not to use shell integration, you may simply set the\\nRBENV_VERSION variable yourself:\\n$ export RBENV_VERSION=jruby-1.7.1\\n\\nrbenv versions\\nLists all Ruby versions known to rbenv, and shows an asterisk next to\\nthe currently active version.\\n$ rbenv versions\\n  1.8.7-p352\\n  1.9.2-p290\\n* 1.9.3-p327 (set by /Users/sam/.rbenv/version)\\n  jruby-1.7.1\\n  rbx-1.2.4\\n  ree-1.8.7-2011.03\\n\\nrbenv version\\nDisplays the currently active Ruby version, along with information on\\nhow it was set.\\n$ rbenv version\\n1.9.3-p327 (set by /Users/sam/.rbenv/version)\\n\\nrbenv rehash\\nInstalls shims for all Ruby executables known to rbenv (i.e.,\\n~/.rbenv/versions/*/bin/*). Run this command after you install a new\\nversion of Ruby, or install a gem that provides commands.\\n$ rbenv rehash\\n\\nrbenv which\\nDisplays the full path to the executable that rbenv will invoke when\\nyou run the given command.\\n$ rbenv which irb\\n/Users/sam/.rbenv/versions/1.9.3-p327/bin/irb\\n\\nrbenv whence\\nLists all Ruby versions with the given command installed.\\n$ rbenv whence rackup\\n1.9.3-p327\\njruby-1.7.1\\nree-1.8.7-2011.03\\n\\nEnvironment variables\\nYou can affect how rbenv operates with the following settings:\\n\\n\\n\\nname\\ndefault\\ndescription\\n\\n\\n\\n\\nRBENV_VERSION\\n\\nSpecifies the Ruby version to be used.Also see rbenv shell\\n\\n\\nRBENV_ROOT\\n~/.rbenv\\nDefines the directory under which Ruby versions and shims reside.Also see rbenv root\\n\\n\\nRBENV_DEBUG\\n\\nOutputs debug information.Also as: rbenv --debug <subcommand>\\n\\n\\nRBENV_HOOK_PATH\\nsee wiki\\nColon-separated list of paths searched for rbenv hooks.\\n\\n\\nRBENV_DIR\\n$PWD\\nDirectory to start searching for .ruby-version files.\\n\\n\\n\\nDevelopment\\nThe rbenv source code is hosted on\\nGitHub. It\\'s clean, modular,\\nand easy to understand, even if you\\'re not a shell hacker.\\nTests are executed using Bats:\\n$ bats test\\n$ bats test/<file>.bats\\n\\nPlease feel free to submit pull requests and file bugs on the issue\\ntracker.\\n'"
      ]
     },
     "execution_count": 30,
     "metadata": {},
     "output_type": "execute_result"
    }
   ],
   "source": [
    "# get body of README\n",
    "# body = soup.find('article', class_='markdown-body').get_text()\n",
    "# body"
   ]
  },
  {
   "cell_type": "code",
   "execution_count": 4,
   "metadata": {},
   "outputs": [],
   "source": [
    "# find README language\n",
    "\n",
    "# language = soup.find('span', class_= 'lang').get_text()\n",
    "# language"
   ]
  },
  {
   "cell_type": "code",
   "execution_count": null,
   "metadata": {},
   "outputs": [],
   "source": []
  },
  {
   "cell_type": "code",
   "execution_count": null,
   "metadata": {},
   "outputs": [],
   "source": []
  }
 ],
 "metadata": {
  "kernelspec": {
   "display_name": "Python 3",
   "language": "python",
   "name": "python3"
  },
  "language_info": {
   "codemirror_mode": {
    "name": "ipython",
    "version": 3
   },
   "file_extension": ".py",
   "mimetype": "text/x-python",
   "name": "python",
   "nbconvert_exporter": "python",
   "pygments_lexer": "ipython3",
   "version": "3.7.3"
  },
  "toc": {
   "base_numbering": 1,
   "nav_menu": {},
   "number_sections": true,
   "sideBar": true,
   "skip_h1_title": false,
   "title_cell": "Table of Contents",
   "title_sidebar": "Contents",
   "toc_cell": false,
   "toc_position": {},
   "toc_section_display": true,
   "toc_window_display": false
  }
 },
 "nbformat": 4,
 "nbformat_minor": 2
}
