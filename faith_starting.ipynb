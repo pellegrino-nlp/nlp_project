{
 "cells": [
  {
   "cell_type": "code",
   "execution_count": 2,
   "metadata": {},
   "outputs": [],
   "source": [
    "import pandas as pd\n",
    "import re\n",
    "\n",
    "# scraping modules\n",
    "from requests import get\n",
    "from bs4 import BeautifulSoup\n",
    "import os\n",
    "import acquire"
   ]
  },
  {
   "cell_type": "code",
   "execution_count": 3,
   "metadata": {},
   "outputs": [],
   "source": [
    "acquire.scrape_github_data()"
   ]
  },
  {
   "cell_type": "code",
   "execution_count": 6,
   "metadata": {},
   "outputs": [],
   "source": [
    "url = 'https://github.com/rbenv/rbenv'\n",
    "headers = {'User-Agent': 'Bayes-NLP Project'}\n",
    "response = get(url, headers=headers)"
   ]
  },
  {
   "cell_type": "code",
   "execution_count": 9,
   "metadata": {},
   "outputs": [],
   "source": [
    "soup = BeautifulSoup(response.content)"
   ]
  },
  {
   "cell_type": "code",
   "execution_count": 10,
   "metadata": {},
   "outputs": [
    {
     "data": {
      "text/plain": [
       "<title>GitHub - rbenv/rbenv: Groom your app’s Ruby environment</title>"
      ]
     },
     "execution_count": 10,
     "metadata": {},
     "output_type": "execute_result"
    }
   ],
   "source": [
    "soup.title"
   ]
  },
  {
   "cell_type": "code",
   "execution_count": 30,
   "metadata": {},
   "outputs": [
    {
     "data": {
      "text/plain": [
       "'Groom your app’s Ruby environment with rbenv.\\nUse rbenv to pick a Ruby version for your application and guarantee\\nthat your development environment matches production. Put rbenv to work\\nwith Bundler for painless Ruby upgrades and\\nbulletproof deployments.\\nPowerful in development. Specify your app\\'s Ruby version once,\\nin a single file. Keep all your teammates on the same page. No\\nheadaches running apps on different versions of Ruby. Just Works™\\nfrom the command line and with app servers like Pow.\\nOverride the Ruby version anytime: just set an environment variable.\\nRock-solid in production. Your application\\'s executables are its\\ninterface with ops. With rbenv and Bundler\\nbinstubs\\nyou\\'ll never again need to cd in a cron job or Chef recipe to\\nensure you\\'ve selected the right runtime. The Ruby version\\ndependency lives in one place—your app—so upgrades and rollbacks are\\natomic, even when you switch versions.\\nOne thing well. rbenv is concerned solely with switching Ruby\\nversions. It\\'s simple and predictable. A rich plugin ecosystem lets\\nyou tailor it to suit your needs. Compile your own Ruby versions, or\\nuse the ruby-build\\nplugin to automate the process. Specify per-application environment\\nvariables with rbenv-vars.\\nSee more plugins on the\\nwiki.\\nWhy choose rbenv over\\nRVM?\\nTable of Contents\\n\\nHow It Works\\n\\nUnderstanding PATH\\nUnderstanding Shims\\nChoosing the Ruby Version\\nLocating the Ruby Installation\\n\\n\\nInstallation\\n\\nHomebrew on macOS\\n\\nUpgrading with Homebrew\\n\\n\\nBasic GitHub Checkout\\n\\nUpgrading with Git\\nUpdating the list of available Ruby versions\\n\\n\\nHow rbenv hooks into your shell\\nInstalling Ruby versions\\n\\nInstalling Ruby gems\\n\\n\\nUninstalling Ruby versions\\nUninstalling rbenv\\n\\n\\nCommand Reference\\n\\nrbenv local\\nrbenv global\\nrbenv shell\\nrbenv versions\\nrbenv version\\nrbenv rehash\\nrbenv which\\nrbenv whence\\n\\n\\nEnvironment variables\\nDevelopment\\n\\nHow It Works\\nAt a high level, rbenv intercepts Ruby commands using shim\\nexecutables injected into your PATH, determines which Ruby version\\nhas been specified by your application, and passes your commands along\\nto the correct Ruby installation.\\nUnderstanding PATH\\nWhen you run a command like ruby or rake, your operating system\\nsearches through a list of directories to find an executable file with\\nthat name. This list of directories lives in an environment variable\\ncalled PATH, with each directory in the list separated by a colon:\\n/usr/local/bin:/usr/bin:/bin\\n\\nDirectories in PATH are searched from left to right, so a matching\\nexecutable in a directory at the beginning of the list takes\\nprecedence over another one at the end. In this example, the\\n/usr/local/bin directory will be searched first, then /usr/bin,\\nthen /bin.\\nUnderstanding Shims\\nrbenv works by inserting a directory of shims at the front of your\\nPATH:\\n~/.rbenv/shims:/usr/local/bin:/usr/bin:/bin\\n\\nThrough a process called rehashing, rbenv maintains shims in that\\ndirectory to match every Ruby command across every installed version\\nof Ruby—irb, gem, rake, rails, ruby, and so on.\\nShims are lightweight executables that simply pass your command along\\nto rbenv. So with rbenv installed, when you run, say, rake, your\\noperating system will do the following:\\n\\nSearch your PATH for an executable file named rake\\nFind the rbenv shim named rake at the beginning of your PATH\\nRun the shim named rake, which in turn passes the command along to\\nrbenv\\n\\nChoosing the Ruby Version\\nWhen you execute a shim, rbenv determines which Ruby version to use by\\nreading it from the following sources, in this order:\\n\\n\\nThe RBENV_VERSION environment variable, if specified. You can use\\nthe rbenv shell command to set this environment\\nvariable in your current shell session.\\n\\n\\nThe first .ruby-version file found by searching the directory of the\\nscript you are executing and each of its parent directories until reaching\\nthe root of your filesystem.\\n\\n\\nThe first .ruby-version file found by searching the current working\\ndirectory and each of its parent directories until reaching the root of your\\nfilesystem. You can modify the .ruby-version file in the current working\\ndirectory with the rbenv local command.\\n\\n\\nThe global ~/.rbenv/version file. You can modify this file using\\nthe rbenv global command. If the global version\\nfile is not present, rbenv assumes you want to use the \"system\"\\nRuby—i.e. whatever version would be run if rbenv weren\\'t in your\\npath.\\n\\n\\nLocating the Ruby Installation\\nOnce rbenv has determined which version of Ruby your application has\\nspecified, it passes the command along to the corresponding Ruby\\ninstallation.\\nEach Ruby version is installed into its own directory under\\n~/.rbenv/versions. For example, you might have these versions\\ninstalled:\\n\\n~/.rbenv/versions/1.8.7-p371/\\n~/.rbenv/versions/1.9.3-p327/\\n~/.rbenv/versions/jruby-1.7.1/\\n\\nVersion names to rbenv are simply the names of the directories in\\n~/.rbenv/versions.\\nInstallation\\nCompatibility note: rbenv is incompatible with RVM. Please make\\nsure to fully uninstall RVM and remove any references to it from\\nyour shell initialization files before installing rbenv.\\nHomebrew on macOS\\nIf you\\'re on macOS, we recommend installing rbenv with\\nHomebrew.\\n\\n\\nInstall rbenv.\\n$ brew install rbenv\\nNote that this also installs ruby-build, so you\\'ll be ready to\\ninstall other Ruby versions out of the box.\\n\\n\\nSet up rbenv in your shell.\\n$ rbenv init\\nFollow the printed instructions to set up rbenv shell integration.\\n\\n\\nClose your Terminal window and open a new one so your changes take\\neffect.\\n\\n\\nVerify that rbenv is properly set up using this\\nrbenv-doctor script:\\n$ curl -fsSL https://github.com/rbenv/rbenv-installer/raw/master/bin/rbenv-doctor | bash\\nChecking for `rbenv\\' in PATH: /usr/local/bin/rbenv\\nChecking for rbenv shims in PATH: OK\\nChecking `rbenv install\\' support: /usr/local/bin/rbenv-install (ruby-build 20170523)\\nCounting installed Ruby versions: none\\n  There aren\\'t any Ruby versions installed under `~/.rbenv/versions\\'.\\n  You can install Ruby versions like so: rbenv install 2.2.4\\nChecking RubyGems settings: OK\\nAuditing installed plugins: OK\\n\\n\\nThat\\'s it! Installing rbenv includes ruby-build, so now you\\'re ready to\\ninstall some other Ruby versions using\\nrbenv install.\\n\\n\\nUpgrading with Homebrew\\nTo upgrade to the latest rbenv and update ruby-build with newly released\\nRuby versions, upgrade the Homebrew packages:\\n$ brew upgrade rbenv ruby-build\\nBasic GitHub Checkout\\nFor a more automated install, you can use\\nrbenv-installer.\\nIf you prefer a manual approach, follow the steps below.\\nThis will get you going with the latest version of rbenv without needing\\na systemwide install.\\n\\n\\nClone rbenv into ~/.rbenv.\\n$ git clone https://github.com/rbenv/rbenv.git ~/.rbenv\\nOptionally, try to compile dynamic bash extension to speed up rbenv. Don\\'t\\nworry if it fails; rbenv will still work normally:\\n$ cd ~/.rbenv && src/configure && make -C src\\n\\n\\n\\nAdd ~/.rbenv/bin to your $PATH for access to the rbenv\\ncommand-line utility.\\n\\n\\nFor bash:\\n$ echo \\'export PATH=\"$HOME/.rbenv/bin:$PATH\"\\' >> ~/.bash_profile\\n\\n\\nFor Ubuntu Desktop:\\n$ echo \\'export PATH=\"$HOME/.rbenv/bin:$PATH\"\\' >> ~/.bashrc\\n\\n\\nFor Zsh:\\n$ echo \\'export PATH=\"$HOME/.rbenv/bin:$PATH\"\\' >> ~/.zshrc\\n\\n\\nFor Fish shell:\\n$ set -Ux fish_user_paths $HOME/.rbenv/bin $fish_user_paths\\n\\n\\n\\n\\nSet up rbenv in your shell.\\n$ ~/.rbenv/bin/rbenv init\\nFollow the printed instructions to set up rbenv shell integration.\\n\\n\\nRestart your shell so that PATH changes take effect. (Opening a new\\nterminal tab will usually do it.)\\n\\n\\nVerify that rbenv is properly set up using this\\nrbenv-doctor script:\\n$ curl -fsSL https://github.com/rbenv/rbenv-installer/raw/master/bin/rbenv-doctor | bash\\nChecking for `rbenv\\' in PATH: /usr/local/bin/rbenv\\nChecking for rbenv shims in PATH: OK\\nChecking `rbenv install\\' support: /usr/local/bin/rbenv-install (ruby-build 20170523)\\nCounting installed Ruby versions: none\\n  There aren\\'t any Ruby versions installed under `~/.rbenv/versions\\'.\\n  You can install Ruby versions like so: rbenv install 2.2.4\\nChecking RubyGems settings: OK\\nAuditing installed plugins: OK\\n\\n\\n(Optional) Install ruby-build, which provides the\\nrbenv install command that simplifies the process of\\ninstalling new Ruby versions.\\n\\n\\nUpgrading with Git\\nIf you\\'ve installed rbenv manually using Git, you can upgrade to the\\nlatest version by pulling from GitHub:\\n$ cd ~/.rbenv\\n$ git pull\\nUpdating the list of available Ruby versions\\nIf you\\'re using the rbenv install command, then the list of available Ruby versions is not automatically updated when pulling from the rbenv repo. To do this manually:\\n$ cd ~/.rbenv/plugins/ruby-build\\n$ git pull\\nHow rbenv hooks into your shell\\nSkip this section unless you must know what every line in your shell\\nprofile is doing.\\nrbenv init is the only command that crosses the line of loading\\nextra commands into your shell. Coming from RVM, some of you might be\\nopposed to this idea. Here\\'s what rbenv init actually does:\\n\\n\\nSets up your shims path. This is the only requirement for rbenv to\\nfunction properly. You can do this by hand by prepending\\n~/.rbenv/shims to your $PATH.\\n\\n\\nInstalls autocompletion. This is entirely optional but pretty\\nuseful. Sourcing ~/.rbenv/completions/rbenv.bash will set that\\nup. There is also a ~/.rbenv/completions/rbenv.zsh for Zsh\\nusers.\\n\\n\\nRehashes shims. From time to time you\\'ll need to rebuild your\\nshim files. Doing this automatically makes sure everything is up to\\ndate. You can always run rbenv rehash manually.\\n\\n\\nInstalls the sh dispatcher. This bit is also optional, but allows\\nrbenv and plugins to change variables in your current shell, making\\ncommands like rbenv shell possible. The sh dispatcher doesn\\'t do\\nanything invasive like override cd or hack your shell prompt, but if\\nfor some reason you need rbenv to be a real script rather than a\\nshell function, you can safely skip it.\\n\\n\\nRun rbenv init - for yourself to see exactly what happens under the\\nhood.\\nInstalling Ruby versions\\nThe rbenv install command doesn\\'t ship with rbenv out of the box, but\\nis provided by the ruby-build project. If you installed it either\\nas part of GitHub checkout process outlined above or via Homebrew, you\\nshould be able to:\\n# list all available versions:\\n$ rbenv install -l\\n\\n# install a Ruby version:\\n$ rbenv install 2.0.0-p247\\nAlternatively to the install command, you can download and compile\\nRuby manually as a subdirectory of ~/.rbenv/versions/. An entry in\\nthat directory can also be a symlink to a Ruby version installed\\nelsewhere on the filesystem. rbenv doesn\\'t care; it will simply treat\\nany entry in the versions/ directory as a separate Ruby version.\\nInstalling Ruby gems\\nOnce you\\'ve installed some Ruby versions, you\\'ll want to install gems.\\nFirst, ensure that the target version for your project is the one you want by\\nchecking rbenv version (see Command Reference). Select\\nanother version using rbenv local 2.0.0-p247, for example. Then, proceed to\\ninstall gems as you normally would:\\n$ gem install bundler\\nYou don\\'t need sudo to install gems. Typically, the Ruby versions will be\\ninstalled and writeable by your user. No extra privileges are required to\\ninstall gems.\\nCheck the location where gems are being installed with gem env:\\n$ gem env home\\n# => ~/.rbenv/versions/<ruby-version>/lib/ruby/gems/...\\nUninstalling Ruby versions\\nAs time goes on, Ruby versions you install will accumulate in your\\n~/.rbenv/versions directory.\\nTo remove old Ruby versions, simply rm -rf the directory of the\\nversion you want to remove. You can find the directory of a particular\\nRuby version with the rbenv prefix command, e.g. rbenv prefix 1.8.7-p357.\\nThe ruby-build plugin provides an rbenv uninstall command to\\nautomate the removal process.\\nUninstalling rbenv\\nThe simplicity of rbenv makes it easy to temporarily disable it, or\\nuninstall from the system.\\n\\nTo disable rbenv managing your Ruby versions, simply remove the\\nrbenv init line from your shell startup configuration. This will\\nremove rbenv shims directory from PATH, and future invocations like\\nruby will execute the system Ruby version, as before rbenv.\\n\\nrbenv will still be accessible on the command line, but your Ruby\\napps won\\'t be affected by version switching.\\n\\n\\nTo completely uninstall rbenv, perform step (1) and then remove\\nits root directory. This will delete all Ruby versions that were\\ninstalled under `rbenv root`/versions/ directory:\\n rm -rf `rbenv root`\\n\\nIf you\\'ve installed rbenv using a package manager, as a final step\\nperform the rbenv package removal. For instance, for Homebrew:\\n brew uninstall rbenv\\n\\n\\n\\nCommand Reference\\nLike git, the rbenv command delegates to subcommands based on its\\nfirst argument. The most common subcommands are:\\nrbenv local\\nSets a local application-specific Ruby version by writing the version\\nname to a .ruby-version file in the current directory. This version\\noverrides the global version, and can be overridden itself by setting\\nthe RBENV_VERSION environment variable or with the rbenv shell\\ncommand.\\n$ rbenv local 1.9.3-p327\\n\\nWhen run without a version number, rbenv local reports the currently\\nconfigured local version. You can also unset the local version:\\n$ rbenv local --unset\\n\\nrbenv global\\nSets the global version of Ruby to be used in all shells by writing\\nthe version name to the ~/.rbenv/version file. This version can be\\noverridden by an application-specific .ruby-version file, or by\\nsetting the RBENV_VERSION environment variable.\\n$ rbenv global 1.8.7-p352\\n\\nThe special version name system tells rbenv to use the system Ruby\\n(detected by searching your $PATH).\\nWhen run without a version number, rbenv global reports the\\ncurrently configured global version.\\nrbenv shell\\nSets a shell-specific Ruby version by setting the RBENV_VERSION\\nenvironment variable in your shell. This version overrides\\napplication-specific versions and the global version.\\n$ rbenv shell jruby-1.7.1\\n\\nWhen run without a version number, rbenv shell reports the current\\nvalue of RBENV_VERSION. You can also unset the shell version:\\n$ rbenv shell --unset\\n\\nNote that you\\'ll need rbenv\\'s shell integration enabled (step 3 of\\nthe installation instructions) in order to use this command. If you\\nprefer not to use shell integration, you may simply set the\\nRBENV_VERSION variable yourself:\\n$ export RBENV_VERSION=jruby-1.7.1\\n\\nrbenv versions\\nLists all Ruby versions known to rbenv, and shows an asterisk next to\\nthe currently active version.\\n$ rbenv versions\\n  1.8.7-p352\\n  1.9.2-p290\\n* 1.9.3-p327 (set by /Users/sam/.rbenv/version)\\n  jruby-1.7.1\\n  rbx-1.2.4\\n  ree-1.8.7-2011.03\\n\\nrbenv version\\nDisplays the currently active Ruby version, along with information on\\nhow it was set.\\n$ rbenv version\\n1.9.3-p327 (set by /Users/sam/.rbenv/version)\\n\\nrbenv rehash\\nInstalls shims for all Ruby executables known to rbenv (i.e.,\\n~/.rbenv/versions/*/bin/*). Run this command after you install a new\\nversion of Ruby, or install a gem that provides commands.\\n$ rbenv rehash\\n\\nrbenv which\\nDisplays the full path to the executable that rbenv will invoke when\\nyou run the given command.\\n$ rbenv which irb\\n/Users/sam/.rbenv/versions/1.9.3-p327/bin/irb\\n\\nrbenv whence\\nLists all Ruby versions with the given command installed.\\n$ rbenv whence rackup\\n1.9.3-p327\\njruby-1.7.1\\nree-1.8.7-2011.03\\n\\nEnvironment variables\\nYou can affect how rbenv operates with the following settings:\\n\\n\\n\\nname\\ndefault\\ndescription\\n\\n\\n\\n\\nRBENV_VERSION\\n\\nSpecifies the Ruby version to be used.Also see rbenv shell\\n\\n\\nRBENV_ROOT\\n~/.rbenv\\nDefines the directory under which Ruby versions and shims reside.Also see rbenv root\\n\\n\\nRBENV_DEBUG\\n\\nOutputs debug information.Also as: rbenv --debug <subcommand>\\n\\n\\nRBENV_HOOK_PATH\\nsee wiki\\nColon-separated list of paths searched for rbenv hooks.\\n\\n\\nRBENV_DIR\\n$PWD\\nDirectory to start searching for .ruby-version files.\\n\\n\\n\\nDevelopment\\nThe rbenv source code is hosted on\\nGitHub. It\\'s clean, modular,\\nand easy to understand, even if you\\'re not a shell hacker.\\nTests are executed using Bats:\\n$ bats test\\n$ bats test/<file>.bats\\n\\nPlease feel free to submit pull requests and file bugs on the issue\\ntracker.\\n'"
      ]
     },
     "execution_count": 30,
     "metadata": {},
     "output_type": "execute_result"
    }
   ],
   "source": [
    "# get body of README\n",
    "body = soup.find('article', class_='markdown-body').get_text()\n",
    "body"
   ]
  },
  {
   "cell_type": "code",
   "execution_count": 32,
   "metadata": {},
   "outputs": [
    {
     "data": {
      "text/plain": [
       "'Shell'"
      ]
     },
     "execution_count": 32,
     "metadata": {},
     "output_type": "execute_result"
    }
   ],
   "source": [
    "# find README language\n",
    "\n",
    "language = soup.find('span', class_= 'lang').get_text()\n",
    "language"
   ]
  },
  {
   "cell_type": "code",
   "execution_count": null,
   "metadata": {},
   "outputs": [],
   "source": [
    "cards.assign(git_hub = github_url + )"
   ]
  }
 ],
 "metadata": {
  "kernelspec": {
   "display_name": "Python 3",
   "language": "python",
   "name": "python3"
  },
  "language_info": {
   "codemirror_mode": {
    "name": "ipython",
    "version": 3
   },
   "file_extension": ".py",
   "mimetype": "text/x-python",
   "name": "python",
   "nbconvert_exporter": "python",
   "pygments_lexer": "ipython3",
   "version": "3.7.3"
  },
  "toc": {
   "base_numbering": 1,
   "nav_menu": {},
   "number_sections": true,
   "sideBar": true,
   "skip_h1_title": false,
   "title_cell": "Table of Contents",
   "title_sidebar": "Contents",
   "toc_cell": false,
   "toc_position": {},
   "toc_section_display": true,
   "toc_window_display": false
  }
 },
 "nbformat": 4,
 "nbformat_minor": 2
}
